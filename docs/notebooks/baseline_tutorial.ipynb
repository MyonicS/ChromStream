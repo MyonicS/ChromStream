{
 "cells": [
  {
   "cell_type": "markdown",
   "id": "fd96ac5d",
   "metadata": {},
   "source": [
    "# Baseline correction tutorial"
   ]
  },
  {
   "cell_type": "markdown",
   "id": "89f3476a",
   "metadata": {},
   "source": [
    "This Notebook demonstrates how the different baseline corrections in the ChromStream package work."
   ]
  },
  {
   "cell_type": "code",
   "execution_count": 1,
   "id": "dbb24634",
   "metadata": {},
   "outputs": [],
   "source": [
    "import chromstream as cs\n",
    "from chromstream.data_processing import min_subtract, time_window_baseline, time_point_baseline, two_point_baseline"
   ]
  },
  {
   "cell_type": "markdown",
   "id": "b086641e",
   "metadata": {},
   "source": [
    "To visualize what the baselines do, we will generate a dataset with a drifting baseline and one peak."
   ]
  },
  {
   "cell_type": "code",
   "execution_count": 2,
   "id": "75066bbd",
   "metadata": {},
   "outputs": [],
   "source": [
    "import numpy as np\n",
    "import pandas as pd\n",
    "import matplotlib.pyplot as plt\n",
    "\n",
    "# Create a diagonal baseline from -1 to 1 and add a Gaussian peak between 1 and 2\n",
    "time = np.arange(0, 6, 0.001)\n",
    "baseline = np.linspace(-0.05, 0.05, len(time))\n",
    "# Gaussian peak parameters\n",
    "peak_center = 1.5\n",
    "peak_width = 0.1\n",
    "peak_amplitude = 2\n",
    "gaussian_peak = peak_amplitude * np.exp(-0.5 * ((time - peak_center) / peak_width) ** 2)\n",
    "# Only add the peak between 1 and 2\n",
    "gaussian_peak[(time < 1) | (time > 2)] = 0\n",
    "\n",
    "# Make a dataframe that contains the time and signal data (like your chromatogram)\n",
    "data_preview = pd.DataFrame({\n",
    "    'Time (min)': time,\n",
    "    'Signal (a.u.)': baseline + gaussian_peak\n",
    "})\n"
   ]
  },
  {
   "cell_type": "markdown",
   "id": "b35ab236",
   "metadata": {},
   "source": [
    "Preview the data here:"
   ]
  },
  {
   "cell_type": "code",
   "execution_count": 3,
   "id": "fa7caed5",
   "metadata": {},
   "outputs": [
    {
     "data": {
      "image/png": "[encoded data removed]",
      "text/plain": [
       "<Figure size 400x300 with 1 Axes>"
      ]
     },
     "metadata": {},
     "output_type": "display_data"
    }
   ],
   "source": [
    "fig, ax = plt.subplots(figsize=(4, 3))\n",
    "\n",
    "ax.plot(data_preview['Time (min)'], data_preview['Signal (a.u.)'])\n",
    "ax.set_xlabel('Time (min)')\n",
    "ax.set_ylabel('Signal (a.u.)')\n",
    "\n",
    "plt.show()"
   ]
  },
  {
   "cell_type": "markdown",
   "id": "b306cc93",
   "metadata": {},
   "source": [
    "To view the possible baseline subtractions, we can use the `list_baseline_functions` function. This Notebook explains how they work."
   ]
  },
  {
   "cell_type": "code",
   "execution_count": 4,
   "id": "0dbe6712",
   "metadata": {},
   "outputs": [
    {
     "name": "stdout",
     "output_type": "stream",
     "text": [
      "min_subtract\n",
      "time_window_baseline\n",
      "time_point_baseline\n",
      "two_point_baseline\n"
     ]
    }
   ],
   "source": [
    "print(cs.list_baseline_functions())"
   ]
  },
  {
   "cell_type": "markdown",
   "id": "7fe0589c",
   "metadata": {},
   "source": [
    "## min_subtract function"
   ]
  },
  {
   "cell_type": "markdown",
   "id": "f077cb50",
   "metadata": {},
   "source": [
    "The min subtract function subtracts the minimum value of the chromatogram from all values. This is useful when the baseline is approximately constant but not at zero."
   ]
  }
 ],
 "metadata": {
  "kernelspec": {
   "display_name": "phd_env",
   "language": "python",
   "name": "python3"
  },
  "language_info": {
   "codemirror_mode": {
    "name": "ipython",
    "version": 3
   },
   "file_extension": ".py",
   "mimetype": "text/x-python",
   "name": "python",
   "nbconvert_exporter": "python",
   "pygments_lexer": "ipython3",
   "version": "3.11.11"
  }
 },
 "nbformat": 4,
 "nbformat_minor": 5
}
